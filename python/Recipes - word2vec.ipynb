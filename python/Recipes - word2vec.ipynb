{
 "cells": [
  {
   "cell_type": "markdown",
   "metadata": {
    "collapsed": true
   },
   "source": [
    "# About\n",
    "\n",
    "Analysis of recipes with word2vec.\n",
    "\n",
    "Partially based on https://www.kaggle.com/c/word2vec-nlp-tutorial/details/part-2-word-vectors\n",
    "\n",
    "# Prerequesites\n",
    "\n",
    "* Python libraries:\n",
    "    * nltk - natural language processing toolkit which includes functions for cleaning text data.\n",
    "    * gensim - word2vec implementation - cython is required for ensuring speedy computations."
   ]
  },
  {
   "cell_type": "code",
   "execution_count": null,
   "metadata": {
    "collapsed": false
   },
   "outputs": [],
   "source": [
    "import re                          # Regular Expressions\n",
    "import pandas as pd                # DataFrames & Manipulation\n",
    "import nltk.data                   # Sentence tokenizer\n",
    "from nltk.corpus import stopwords  # Import the stop word list\n",
    "from bs4 import BeautifulSoup      # HTML processing\n",
    "from gensim.models.word2vec import Word2Vec"
   ]
  },
  {
   "cell_type": "code",
   "execution_count": null,
   "metadata": {
    "collapsed": false
   },
   "outputs": [],
   "source": [
    "train_input = \"../data/recipes.tsv.bz2\"\n",
    "\n",
    "# keep empty strings (http://pandas-docs.github.io/pandas-docs-travis/io.html#na-values)\n",
    "train = pd.read_csv(train_input, delimiter=\"\\t\", quoting=3, encoding=\"utf-8\", keep_default_na=False)"
   ]
  },
  {
   "cell_type": "markdown",
   "metadata": {},
   "source": [
    "Prepare text processing"
   ]
  },
  {
   "cell_type": "code",
   "execution_count": null,
   "metadata": {
    "collapsed": false
   },
   "outputs": [],
   "source": [
    "# load sentence tokenizer model and initialize for german language\n",
    "nltk.download(\"punkt\")\n",
    "\n",
    "tokenizer = nltk.data.load('tokenizers/punkt/german.pickle')"
   ]
  },
  {
   "cell_type": "markdown",
   "metadata": {},
   "source": [
    "Define functions for cleaning the text data."
   ]
  },
  {
   "cell_type": "code",
   "execution_count": null,
   "metadata": {
    "collapsed": false
   },
   "outputs": [],
   "source": [
    "def clean_text( input, remove_stopwords = False ):\n",
    "    \"\"\"\n",
    "    Remove HTML, non-letter characters, and convert to lower case.\n",
    "    Return list of words.\n",
    "    \"\"\"\n",
    "    \n",
    "    # remove HTML markup with BeautifulSoup (and keep spaces after removal)\n",
    "    plainText = \" \".join(BeautifulSoup(input, 'html.parser').strings)\n",
    "        \n",
    "    # retain only letters (include umlauts)\n",
    "    onlyLetters = re.sub(u\"[^a-zA-ZäöüÄÖÜß]\", \" \", plainText)\n",
    "    \n",
    "    # get lower case words\n",
    "    words = onlyLetters.lower().split()\n",
    "    \n",
    "    # use set of stop words\n",
    "    if remove_stopwords:\n",
    "        stops = set(stopwords.words(\"english\"))\n",
    "        words = [w for w in words if not w in stops]\n",
    "    \n",
    "    return words\n",
    "\n",
    "\n",
    "def clean_sentences( text, remove_stopwords = False ):\n",
    "    \"\"\"\n",
    "    Split text by sentences and clean each sentence.\n",
    "    \"\"\"\n",
    "    sentences = tokenizer.tokenize(text)\n",
    "    return filter(None, [clean_text(line, remove_stopwords) for line in sentences])"
   ]
  },
  {
   "cell_type": "code",
   "execution_count": null,
   "metadata": {
    "collapsed": false,
    "scrolled": true
   },
   "outputs": [],
   "source": [
    "sentences = []\n",
    "\n",
    "num_reviews = train['instructions'].size\n",
    "\n",
    "for i in xrange ( 0, num_reviews ):\n",
    "    \n",
    "    if (i+1) % 1000 == 0:\n",
    "        print \"Processing recipe %d of %d recipies.\" % ( i+1, num_reviews )\n",
    "    sentences += clean_sentences(train['instructions'][i])"
   ]
  },
  {
   "cell_type": "code",
   "execution_count": null,
   "metadata": {
    "collapsed": false
   },
   "outputs": [],
   "source": [
    "print \"Total: %d sentences.\\n\" % len(sentences)\n",
    "\n",
    "print \"Example Sentences:\\n\", \"\\n\".join([\",\".join(sentence) for sentence in sentences[0:3]])"
   ]
  },
  {
   "cell_type": "markdown",
   "metadata": {},
   "source": [
    "## Initialize and train the model\n",
    "\n",
    "this will take some time..."
   ]
  },
  {
   "cell_type": "code",
   "execution_count": null,
   "metadata": {
    "collapsed": true
   },
   "outputs": [],
   "source": [
    "# Set values for various parameters\n",
    "num_features = 300    # Word vector dimensionality                      \n",
    "min_word_count = 40   # Minimum word count                        \n",
    "num_workers = 4       # Number of threads to run in parallel\n",
    "context = 10          # Context window size                                                                                    \n",
    "downsampling = 1e-3   # Downsample setting for frequent words"
   ]
  },
  {
   "cell_type": "code",
   "execution_count": null,
   "metadata": {
    "collapsed": true
   },
   "outputs": [],
   "source": [
    "# Import the built-in logging module and configure it so that Word2Vec creates nice output messages\n",
    "import logging\n",
    "logging.basicConfig(format='%(asctime)s : %(levelname)s : %(message)s', level=logging.INFO)"
   ]
  },
  {
   "cell_type": "code",
   "execution_count": null,
   "metadata": {
    "collapsed": false
   },
   "outputs": [],
   "source": [
    "print \"Training model...\"\n",
    "model = Word2Vec(sentences, workers=num_workers, \\\n",
    "            size=num_features, min_count = min_word_count, \\\n",
    "            window = context, sample = downsampling)"
   ]
  },
  {
   "cell_type": "code",
   "execution_count": null,
   "metadata": {
    "collapsed": false
   },
   "outputs": [],
   "source": [
    "print \"%d words in vocabular.\" % len(model.wv.vocab)"
   ]
  },
  {
   "cell_type": "markdown",
   "metadata": {},
   "source": [
    "Save the model for later use or continued training"
   ]
  },
  {
   "cell_type": "code",
   "execution_count": null,
   "metadata": {
    "collapsed": false
   },
   "outputs": [],
   "source": [
    "# make the model much more memory-efficient.\n",
    "model.init_sims(replace=True)\n",
    "\n",
    "model_name = \"recipes-words_%dfeatures_%dminwords_%dcontext\" % (num_features, min_word_count, context)\n",
    "model.save(model_name)"
   ]
  },
  {
   "cell_type": "markdown",
   "metadata": {},
   "source": [
    "Some model evaluation examples:"
   ]
  },
  {
   "cell_type": "code",
   "execution_count": null,
   "metadata": {
    "collapsed": false
   },
   "outputs": [],
   "source": [
    "model.doesnt_match(\"milch brot eier\".split())"
   ]
  },
  {
   "cell_type": "code",
   "execution_count": null,
   "metadata": {
    "collapsed": false
   },
   "outputs": [],
   "source": [
    "model.most_similar(\"braten\")"
   ]
  },
  {
   "cell_type": "code",
   "execution_count": null,
   "metadata": {
    "collapsed": false
   },
   "outputs": [],
   "source": [
    "model.most_similar(\"pasta\")"
   ]
  },
  {
   "cell_type": "code",
   "execution_count": null,
   "metadata": {
    "collapsed": false
   },
   "outputs": [],
   "source": [
    "model.most_similar(\"brownies\")"
   ]
  },
  {
   "cell_type": "code",
   "execution_count": null,
   "metadata": {
    "collapsed": false
   },
   "outputs": [],
   "source": [
    "model.most_similar(\"lasagne\")"
   ]
  }
 ],
 "metadata": {
  "kernelspec": {
   "display_name": "Python 2",
   "language": "python",
   "name": "python2"
  },
  "language_info": {
   "codemirror_mode": {
    "name": "ipython",
    "version": 2
   },
   "file_extension": ".py",
   "mimetype": "text/x-python",
   "name": "python",
   "nbconvert_exporter": "python",
   "pygments_lexer": "ipython2",
   "version": "2.7.12"
  }
 },
 "nbformat": 4,
 "nbformat_minor": 2
}
