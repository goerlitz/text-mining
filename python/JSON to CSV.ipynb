{
 "cells": [
  {
   "cell_type": "markdown",
   "metadata": {
    "collapsed": true
   },
   "source": [
    "# About\n",
    "\n",
    "Extract specific parts from JSON documents and store them as columns in a CSV/TSV for further data analysis.\n",
    "\n",
    "# Prerequesites\n",
    "\n",
    "* A running mongodb instance which holds the JSON documents (see docker container).\n",
    "* Python libraries:\n",
    "    * pymongo - python bindings for mongodb.\n",
    "    * jsonpath_rw - path expressions for matching parts of a JSON document.\n",
    "* A configuration file (config.yaml) with setting for\n",
    "    * mongodb instance and collection name\n",
    "    * JSON field matching rules\n",
    "\n",
    "**Configuration example:**\n",
    "    \n",
    "    mongo:\n",
    "        url        : \"mongodb://mongo:27017\"\n",
    "        database   : \"articles\"\n",
    "        collection : \"comments\"\n",
    "    \n",
    "    json2csv:\n",
    "        # extract all article comments\n",
    "        item_selector : \"$.article[*].comment[*]\"\n",
    "        item_fields   : [ \"id\", \"author\", \"text\" ]\n",
    "        item_count    : False\n",
    "        output_path   : \"../data/comments.tsv\""
   ]
  },
  {
   "cell_type": "code",
   "execution_count": null,
   "metadata": {
    "collapsed": true
   },
   "outputs": [],
   "source": [
    "from pymongo import MongoClient\n",
    "from jsonpath_rw import jsonpath, parse\n",
    "import json\n",
    "import yaml\n",
    "import pandas as pd\n",
    "import re"
   ]
  },
  {
   "cell_type": "markdown",
   "metadata": {},
   "source": [
    "## Prepare configuration"
   ]
  },
  {
   "cell_type": "code",
   "execution_count": null,
   "metadata": {
    "collapsed": true
   },
   "outputs": [],
   "source": [
    "config_file = 'config_json2csv.yaml'"
   ]
  },
  {
   "cell_type": "code",
   "execution_count": null,
   "metadata": {
    "collapsed": false
   },
   "outputs": [],
   "source": [
    "with open(config_file) as yaml_file:\n",
    "    cfg = yaml.load(yaml_file)"
   ]
  },
  {
   "cell_type": "markdown",
   "metadata": {},
   "source": [
    "## Prepare database connection"
   ]
  },
  {
   "cell_type": "code",
   "execution_count": null,
   "metadata": {
    "collapsed": false
   },
   "outputs": [],
   "source": [
    "mongo_cfg = cfg['mongo']\n",
    "\n",
    "client = MongoClient(mongo_cfg['url'])\n",
    "\n",
    "db = client[mongo_cfg['database']][mongo_cfg['collection']]\n",
    "\n",
    "print \"%d entries in database.\" % db.find().count()"
   ]
  },
  {
   "cell_type": "markdown",
   "metadata": {},
   "source": [
    "## Process all documents\n",
    "\n",
    "Define function to clean text data such that it can be saved as one line."
   ]
  },
  {
   "cell_type": "code",
   "execution_count": null,
   "metadata": {
    "collapsed": true
   },
   "outputs": [],
   "source": [
    "def clean(data):\n",
    "    \"\"\"Replace new line and tab; remove leading and trailing spaces.\"\"\"\n",
    "    if isinstance(data, (str, unicode)):\n",
    "        return re.sub('[\\t\\n\\r]', ' ', data).strip().encode('utf-8')\n",
    "    else:\n",
    "        return data\n",
    "\n",
    "def as_list(value):\n",
    "    if isinstance(value, list):\n",
    "        return value\n",
    "    else:\n",
    "        return [value]\n",
    "\n",
    "def extract(parser, json):\n",
    "    match = parser.find(json)\n",
    "    if (len(match) == 0):\n",
    "        return None\n",
    "    else:\n",
    "        return match[0].value\n",
    "\n",
    "def extract_data(cursor):\n",
    "    return [ tuple(clean(extract(parser, item)) for parser in field_parser)\n",
    "    for result in cursor\n",
    "    for match in item_selector.find(result)\n",
    "    for item in as_list(match.value) ]"
   ]
  },
  {
   "cell_type": "code",
   "execution_count": null,
   "metadata": {
    "collapsed": false
   },
   "outputs": [],
   "source": [
    "item_selector = parse(cfg['json2csv']['item_selector'])\n",
    "item_fields   = cfg['json2csv']['item_fields']\n",
    "field_parser  = [ parse(field) for field in item_fields ]"
   ]
  },
  {
   "cell_type": "code",
   "execution_count": null,
   "metadata": {
    "collapsed": false
   },
   "outputs": [],
   "source": [
    "from collections import Counter\n",
    "\n",
    "if cfg['json2csv']['item_count']:\n",
    "    counter = Counter(extract_data(db.find()))\n",
    "    df = pd.DataFrame.from_records([ list(x) + [count] for (x, count) in counter.iteritems()], columns=item_fields+[\"count\"])\n",
    "else:\n",
    "    records = extract_data(db.find())\n",
    "    df = pd.DataFrame.from_records(records, columns=item_fields)"
   ]
  },
  {
   "cell_type": "code",
   "execution_count": null,
   "metadata": {
    "collapsed": false
   },
   "outputs": [],
   "source": [
    "print \"%d items.\" % len(df)"
   ]
  },
  {
   "cell_type": "code",
   "execution_count": null,
   "metadata": {
    "collapsed": false
   },
   "outputs": [],
   "source": [
    "output_file = cfg['json2csv']['output_file']\n",
    "\n",
    "df.to_csv(output_file, sep=\"\\t\", index=False, quoting=3, encoding=\"utf-8\")"
   ]
  }
 ],
 "metadata": {
  "kernelspec": {
   "display_name": "Python 2",
   "language": "python",
   "name": "python2"
  },
  "language_info": {
   "codemirror_mode": {
    "name": "ipython",
    "version": 2
   },
   "file_extension": ".py",
   "mimetype": "text/x-python",
   "name": "python",
   "nbconvert_exporter": "python",
   "pygments_lexer": "ipython2",
   "version": "2.7.12"
  }
 },
 "nbformat": 4,
 "nbformat_minor": 2
}
