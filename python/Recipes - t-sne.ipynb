{
 "cells": [
  {
   "cell_type": "markdown",
   "metadata": {},
   "source": [
    "# About\n",
    "\n",
    "Visualization of recipe ingredients with t-SNE.\n",
    "\n",
    "Based on the vector representations produced by Word2Vec."
   ]
  },
  {
   "cell_type": "code",
   "execution_count": null,
   "metadata": {
    "collapsed": true
   },
   "outputs": [],
   "source": [
    "import pandas as pd                             # DataFrames & Manipulation\n",
    "from gensim.models.word2vec import Word2Vec     # Word2Vec model\n",
    "from sklearn.preprocessing import LabelEncoder  # Category Encoder"
   ]
  },
  {
   "cell_type": "code",
   "execution_count": null,
   "metadata": {
    "collapsed": false
   },
   "outputs": [],
   "source": [
    "model_file = \"recipes-words_300features_40minwords_10context\"\n",
    "\n",
    "model = Word2Vec.load(model_file)\n",
    "\n",
    "print \"The model contains %d words.\" % len(model.wv.vocab)"
   ]
  },
  {
   "cell_type": "markdown",
   "metadata": {},
   "source": [
    "## Prepare Ingredients\n",
    "\n",
    "Load additional ingredient information from separate file (contains 'name' and 'productGroup' of all ingredients)."
   ]
  },
  {
   "cell_type": "code",
   "execution_count": null,
   "metadata": {
    "collapsed": false
   },
   "outputs": [],
   "source": [
    "ingredient_file = \"../data/ingredients.tsv\"\n",
    "\n",
    "ingredients = pd.read_csv(ingredient_file, delimiter=\"\\t\", quoting=3, encoding=\"utf-8\", keep_default_na=False)\n",
    "\n",
    "# convert to categories\n",
    "ingredients['productGroup'] = ingredients['productGroup'].astype('category')\n",
    "\n",
    "ingredients.head()"
   ]
  },
  {
   "cell_type": "markdown",
   "metadata": {},
   "source": [
    "Prepare lookup table for ingredient categories"
   ]
  },
  {
   "cell_type": "code",
   "execution_count": null,
   "metadata": {
    "collapsed": false
   },
   "outputs": [],
   "source": [
    "# encode ingredient categories as integers\n",
    "le = LabelEncoder()\n",
    "le.fit(ingredients['productGroup'])\n",
    "\n",
    "categories = le.fit_transform(ingredients['productGroup'])\n",
    "name_lower = [name.lower() for name in ingredients['name']]\n",
    "\n",
    "lookup = dict(zip(name_lower, categories))"
   ]
  },
  {
   "cell_type": "markdown",
   "metadata": {},
   "source": [
    "Match ingredient names with words in model"
   ]
  },
  {
   "cell_type": "code",
   "execution_count": null,
   "metadata": {
    "collapsed": false
   },
   "outputs": [],
   "source": [
    "known_words = [word for word in model.wv.vocab if word in name_lower]\n",
    "word_cats = [lookup[item] for item in known_words]\n",
    "X = model[known_words]  # get vector weights\n",
    "print \"found %d of %d ingredients (exact match) in %d words.\" % (len(known_words), len(name_lower), len(model.wv.vocab))"
   ]
  },
  {
   "cell_type": "markdown",
   "metadata": {},
   "source": [
    "# Visualise Ingredients using t-SNE\n",
    "\n",
    "see also http://alexanderfabisch.github.io/t-sne-in-scikit-learn.html"
   ]
  },
  {
   "cell_type": "code",
   "execution_count": null,
   "metadata": {
    "collapsed": true
   },
   "outputs": [],
   "source": [
    "import numpy as np\n",
    "import matplotlib.pyplot as plt\n",
    "from sklearn.manifold import TSNE\n",
    "from sklearn.decomposition import PCA"
   ]
  },
  {
   "cell_type": "code",
   "execution_count": null,
   "metadata": {
    "collapsed": true
   },
   "outputs": [],
   "source": [
    "tsne = TSNE(n_components=2, perplexity=50, random_state=0)\n",
    "np.set_printoptions(suppress=True)\n",
    "X_tsne = tsne.fit_transform(X)"
   ]
  },
  {
   "cell_type": "code",
   "execution_count": null,
   "metadata": {
    "collapsed": false
   },
   "outputs": [],
   "source": [
    "plt.scatter(X_tsne[:, 0], X_tsne[:, 1], c=word_cats)\n",
    "plt.show()"
   ]
  },
  {
   "cell_type": "code",
   "execution_count": null,
   "metadata": {
    "collapsed": true
   },
   "outputs": [],
   "source": [
    "X_pca = PCA().fit_transform(X)"
   ]
  },
  {
   "cell_type": "code",
   "execution_count": null,
   "metadata": {
    "collapsed": false
   },
   "outputs": [],
   "source": [
    "plt.scatter(X_pca[:, 0], X_pca[:, 1], c=word_cats)"
   ]
  }
 ],
 "metadata": {
  "kernelspec": {
   "display_name": "Python 2",
   "language": "python",
   "name": "python2"
  },
  "language_info": {
   "codemirror_mode": {
    "name": "ipython",
    "version": 2
   },
   "file_extension": ".py",
   "mimetype": "text/x-python",
   "name": "python",
   "nbconvert_exporter": "python",
   "pygments_lexer": "ipython2",
   "version": "2.7.12"
  }
 },
 "nbformat": 4,
 "nbformat_minor": 2
}
