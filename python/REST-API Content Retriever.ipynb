{
 "cells": [
  {
   "cell_type": "markdown",
   "metadata": {
    "collapsed": true
   },
   "source": [
    "# About\n",
    "\n",
    "Retrieve JSON documents which are accessible via REST API and store them in mongodb.\n",
    "\n",
    "# Prerequesites\n",
    "\n",
    "* A running mongodb instance to store the JSON documents (see docker container).\n",
    "* Python libraries:\n",
    "    * pymongo - python bindings for mongodb.\n",
    "    * jsonpath_rw - path expressions for matching parts of a JSON document.\n",
    "* A configuration file (config.yaml) with setting for\n",
    "    * mongodb instance and collection name\n",
    "    * REST API url and parameters\n",
    "    * JSON document format"
   ]
  },
  {
   "cell_type": "code",
   "execution_count": null,
   "metadata": {
    "collapsed": false
   },
   "outputs": [],
   "source": [
    "from pymongo import MongoClient\n",
    "from urllib import urlopen\n",
    "from jsonpath_rw import jsonpath, parse\n",
    "from datetime import datetime\n",
    "import json\n",
    "import yaml"
   ]
  },
  {
   "cell_type": "markdown",
   "metadata": {},
   "source": [
    "## Prepare configuration settings"
   ]
  },
  {
   "cell_type": "code",
   "execution_count": null,
   "metadata": {
    "collapsed": false
   },
   "outputs": [],
   "source": [
    "with open('config.yaml') as yaml_file:\n",
    "    cfg = yaml.load(yaml_file)\n",
    "\n",
    "rest_api = cfg['rest-api']\n",
    "json_cfg = cfg['json-path']\n",
    "mongo_db = cfg['mongo']\n",
    "\n",
    "api_list_items  = rest_api['url'] + rest_api['get_list']\n",
    "api_get_item    = rest_api['url'] + rest_api['get_detail']\n",
    "\n",
    "item_id_field  = cfg['json-path']['item_id']\n",
    "item_list_path = parse(cfg['json-path']['item_list'])"
   ]
  },
  {
   "cell_type": "markdown",
   "metadata": {},
   "source": [
    "## Prepare database connection"
   ]
  },
  {
   "cell_type": "code",
   "execution_count": null,
   "metadata": {
    "collapsed": false
   },
   "outputs": [],
   "source": [
    "client = MongoClient(mongo_db['url'])\n",
    "\n",
    "db = client[mongo_db['database']][mongo_db['collection']]\n",
    "\n",
    "print \"%d entries in database.\" % db.find().count()"
   ]
  },
  {
   "cell_type": "markdown",
   "metadata": {},
   "source": [
    "## Fetching documents via REST API"
   ]
  },
  {
   "cell_type": "code",
   "execution_count": null,
   "metadata": {
    "collapsed": false
   },
   "outputs": [],
   "source": [
    "# functions for REST API calls\n",
    "\n",
    "def get_item_list(offset = 0, limit = 100, url = api_list_items):\n",
    "    request = urlopen(url % (offset, limit))\n",
    "    return json.loads(request.read())\n",
    "\n",
    "def get_item(id, url = api_get_item):\n",
    "    request = urlopen(url % id)\n",
    "    return json.loads(request.read())"
   ]
  },
  {
   "cell_type": "code",
   "execution_count": null,
   "metadata": {
    "collapsed": false
   },
   "outputs": [],
   "source": [
    "max_items = 10**6\n",
    "limit=100\n",
    "\n",
    "for offset in xrange(0, max_items, limit):\n",
    "    print (\"%s - fetching items %s - %s\" % (datetime.now().strftime(\"%Y-%m-%d %H:%M:%S\"), offset, offset+limit))\n",
    "    \n",
    "    # download item list\n",
    "    result    = get_item_list(offset=offset, limit=limit)\n",
    "    item_list = [ item.value for item in item_list_path.find(result) ]\n",
    "    \n",
    "    # stop if result list is empty\n",
    "    if len(item_list) == 0:\n",
    "        print \"no more results returned\"\n",
    "        break\n",
    "    \n",
    "    # extract IDs and compare with items already in database\n",
    "    item_ids  = [ item[item_id_field] for item in item_list ]\n",
    "    known_ids = [ item[item_id_field] for item in db.find( {item_id_field: { \"$in\": item_ids }} ) ]\n",
    "    new_ids   = [ x for x in item_ids if x not in known_ids ]\n",
    "    \n",
    "    print \"-> got %d ids (%d known, %d new)\" % (len(item_ids), len(known_ids), len(new_ids))\n",
    "    \n",
    "    # fetch new items from REST API\n",
    "    items = []\n",
    "    for id in new_ids:\n",
    "        item = get_item(id)\n",
    "        items.append(item)\n",
    "    \n",
    "    # insert new items in database\n",
    "    if len(items) != 0:\n",
    "        result = db.insert_many(items)\n"
   ]
  }
 ],
 "metadata": {
  "kernelspec": {
   "display_name": "Python 2",
   "language": "python",
   "name": "python2"
  },
  "language_info": {
   "codemirror_mode": {
    "name": "ipython",
    "version": 2
   },
   "file_extension": ".py",
   "mimetype": "text/x-python",
   "name": "python",
   "nbconvert_exporter": "python",
   "pygments_lexer": "ipython2",
   "version": "2.7.12"
  }
 },
 "nbformat": 4,
 "nbformat_minor": 2
}
