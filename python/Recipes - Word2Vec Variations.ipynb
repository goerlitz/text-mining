{
 "cells": [
  {
   "cell_type": "markdown",
   "metadata": {},
   "source": [
    "# Data Preparation"
   ]
  },
  {
   "cell_type": "code",
   "execution_count": null,
   "metadata": {
    "collapsed": false
   },
   "outputs": [],
   "source": [
    "import re                                    # Regular Expressions\n",
    "import pandas as pd                          # DataFrames & Manipulation\n",
    "from gensim.models.word2vec import Word2Vec"
   ]
  },
  {
   "cell_type": "code",
   "execution_count": null,
   "metadata": {
    "collapsed": false
   },
   "outputs": [],
   "source": [
    "train_input = \"../data/recipes.tsv.bz2\"\n",
    "\n",
    "# keep empty strings (http://pandas-docs.github.io/pandas-docs-travis/io.html#na-values)\n",
    "train = pd.read_csv(train_input, delimiter=\"\\t\", quoting=3, encoding=\"utf-8\", keep_default_na=False)\n",
    "\n",
    "print \"loaded %d documents.\" % len(train)"
   ]
  },
  {
   "cell_type": "code",
   "execution_count": null,
   "metadata": {
    "collapsed": false
   },
   "outputs": [],
   "source": [
    "train[['title', 'instructions']].head()"
   ]
  },
  {
   "cell_type": "markdown",
   "metadata": {},
   "source": [
    "## Input Normalization\n",
    "\n",
    "does not need specific filtering of special character, stop words, etc."
   ]
  },
  {
   "cell_type": "code",
   "execution_count": null,
   "metadata": {
    "collapsed": true
   },
   "outputs": [],
   "source": [
    "def normalize(text):\n",
    "    norm_text = text.lower()\n",
    "    \n",
    "    for char in ['.', '\"', ',', '(', ')', '!', '?', ';', ':']:\n",
    "        norm_text = norm_text.replace(char, ' ' + char + ' ')\n",
    "    \n",
    "    return norm_text"
   ]
  },
  {
   "cell_type": "code",
   "execution_count": null,
   "metadata": {
    "collapsed": false
   },
   "outputs": [],
   "source": [
    "sentences = [normalize(text).split() for text in train['instructions']]\n",
    "print \"%d sentences in corpus\" % len(sentences)"
   ]
  },
  {
   "cell_type": "markdown",
   "metadata": {},
   "source": [
    "## Word2Vec Model Training\n",
    "\n",
    "~300k recipes, 190k word types, 37M raw words\n",
    "\n",
    "27k unique words (min 10x)"
   ]
  },
  {
   "cell_type": "markdown",
   "metadata": {},
   "source": [
    "see http://radimrehurek.com/gensim/models/word2vec.html\n",
    "\n",
    "\n",
    "    class gensim.models.word2vec.Word2Vec(\n",
    "    ->  sentences=None,                        # iterable of sentences (list of words)\n",
    "    ->  size=100,                              # feature vector dimension\n",
    "        alpha=0.025,                           # intial learning rate (drops to min_alpha during training)\n",
    "    ->  window=5,                              # maximum distance between current and predicted word\n",
    "    ->  min_count=5,                           # ignore words with lower total frequency\n",
    "        max_vocab_size=None,                   # limit RAM to most frequent words (1M words ~ 1GB)\n",
    "        sample=0.001,                          # threshold for random downsampling of high frequency words\n",
    "        seed=1,                                # for random number generator\n",
    "    ->  workers=3,                             # number fo worker threads\n",
    "        min_alpha=0.0001,                      # used for linear learning-rate decay\n",
    "    ->  sg=0,                                  # training algorithm - (sg=0) CBOW, (sg=1) skip-gram\n",
    "        hs=0,                                  # use hierarchical softmax (if 1), or negative sampling (default)\n",
    "        negative=5,                            # number of noise words used for negative sampling\n",
    "        cbow_mean=1,                           # use sum (0) of context word vector or mean (1, default)\n",
    "        hashfxn=<built-in function hash>,\n",
    "        iter=5,                                # number of iterations (epochs) over the corpus\n",
    "        null_word=0,\n",
    "        trim_rule=None,                        # custom vocabulary filtering\n",
    "        sorted_vocab=1,                        # sort vocab by descending word frequency\n",
    "        batch_words=10000                      # size of batches (in words) passed to worker threads\n",
    "    )"
   ]
  },
  {
   "cell_type": "markdown",
   "metadata": {},
   "source": [
    "**Defining training parameters:**"
   ]
  },
  {
   "cell_type": "code",
   "execution_count": null,
   "metadata": {
    "collapsed": true
   },
   "outputs": [],
   "source": [
    "num_features   = 100   # Word vector dimensionality                      \n",
    "min_word_count =  10   # Minimum word count                        \n",
    "num_workers    =   4   # Number of threads to run in parallel\n",
    "context        =  10   # Context window size                                                                                    \n",
    "downsampling   = 1e-3  # Downsample setting for frequent words"
   ]
  },
  {
   "cell_type": "code",
   "execution_count": null,
   "metadata": {
    "collapsed": false
   },
   "outputs": [],
   "source": [
    "# Import the built-in logging module and configure it so that Word2Vec creates nice output messages\n",
    "import logging\n",
    "logging.basicConfig(format='%(asctime)s : %(levelname)s : %(message)s', level=logging.INFO)"
   ]
  },
  {
   "cell_type": "markdown",
   "metadata": {},
   "source": [
    "# Training CBOW model\n",
    "\n",
    "takes about 3 minutes for example data."
   ]
  },
  {
   "cell_type": "code",
   "execution_count": null,
   "metadata": {
    "collapsed": false
   },
   "outputs": [],
   "source": [
    "print \"Training CBOW model...\"\n",
    "model = Word2Vec(\n",
    "    sentences, \n",
    "    workers=num_workers,\n",
    "    size=num_features,\n",
    "    min_count = min_word_count,\n",
    "    window = context,\n",
    "    sample = downsampling)"
   ]
  },
  {
   "cell_type": "code",
   "execution_count": null,
   "metadata": {
    "collapsed": false
   },
   "outputs": [],
   "source": [
    "# make the model much more memory-efficient.\n",
    "model.init_sims(replace=True)\n",
    "\n",
    "model_name = \"recipes_cbow_%dfeatures_%dminwords_%dcontext\" % (num_features, min_word_count, context)\n",
    "model.save(model_name)"
   ]
  },
  {
   "cell_type": "code",
   "execution_count": null,
   "metadata": {
    "collapsed": false
   },
   "outputs": [],
   "source": [
    "model.most_similar(\"pasta\")"
   ]
  },
  {
   "cell_type": "code",
   "execution_count": null,
   "metadata": {
    "collapsed": false
   },
   "outputs": [],
   "source": [
    "model.most_similar(\"ofen\")"
   ]
  },
  {
   "cell_type": "markdown",
   "metadata": {},
   "source": [
    "# Training skip-gram model\n",
    "\n",
    "takes about 14 minutes for example data"
   ]
  },
  {
   "cell_type": "code",
   "execution_count": null,
   "metadata": {
    "collapsed": false
   },
   "outputs": [],
   "source": [
    "print \"Training skip-gram model...\"\n",
    "model2 = Word2Vec(\n",
    "    sentences,\n",
    "    sg = 1,\n",
    "    hs = 1,\n",
    "    workers=num_workers,\n",
    "    size=num_features,\n",
    "    min_count = min_word_count,\n",
    "    window = context,\n",
    "    sample = downsampling)"
   ]
  },
  {
   "cell_type": "code",
   "execution_count": null,
   "metadata": {
    "collapsed": false
   },
   "outputs": [],
   "source": [
    "# make the model much more memory-efficient.\n",
    "model2.init_sims(replace=True)\n",
    "\n",
    "model_name = \"recipes_skip-gram_%dfeatures_%dminwords_%dcontext\" % (num_features, min_word_count, context)\n",
    "model2.save(model_name)"
   ]
  },
  {
   "cell_type": "code",
   "execution_count": null,
   "metadata": {
    "collapsed": false
   },
   "outputs": [],
   "source": [
    "model2.most_similar(\"pasta\")"
   ]
  },
  {
   "cell_type": "code",
   "execution_count": null,
   "metadata": {
    "collapsed": false
   },
   "outputs": [],
   "source": [
    "model2.most_similar(\"ofen\")"
   ]
  },
  {
   "cell_type": "code",
   "execution_count": null,
   "metadata": {
    "collapsed": true
   },
   "outputs": [],
   "source": []
  }
 ],
 "metadata": {
  "kernelspec": {
   "display_name": "Python 2",
   "language": "python",
   "name": "python2"
  },
  "language_info": {
   "codemirror_mode": {
    "name": "ipython",
    "version": 2
   },
   "file_extension": ".py",
   "mimetype": "text/x-python",
   "name": "python",
   "nbconvert_exporter": "python",
   "pygments_lexer": "ipython2",
   "version": "2.7.12"
  }
 },
 "nbformat": 4,
 "nbformat_minor": 2
}
