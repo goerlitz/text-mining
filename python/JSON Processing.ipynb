{
 "cells": [
  {
   "cell_type": "markdown",
   "metadata": {},
   "source": [
    "# About\n",
    "\n",
    "Extract specific parts from JSON documents and store them as columns in a CSV/TSV for further data analysis.\n",
    "\n",
    "# Prerequesites\n",
    "\n",
    "* A running mongodb instance which holds the JSON documents (see docker container).\n",
    "* Python libraries:\n",
    "    * pymongo - python bindings for mongodb.\n",
    "    * jsonpath_rw - path expressions for matching parts of a JSON document.\n",
    "* A configuration file (config.yaml) with setting for\n",
    "    * mongodb instance and collection name\n",
    "    * JSON document field selection"
   ]
  },
  {
   "cell_type": "code",
   "execution_count": null,
   "metadata": {
    "collapsed": true
   },
   "outputs": [],
   "source": [
    "from pymongo import MongoClient\n",
    "from jsonpath_rw import jsonpath, parse\n",
    "import json\n",
    "import yaml\n",
    "import pandas as pd\n",
    "import re"
   ]
  },
  {
   "cell_type": "markdown",
   "metadata": {},
   "source": [
    "## Prepare configuration"
   ]
  },
  {
   "cell_type": "code",
   "execution_count": null,
   "metadata": {
    "collapsed": true
   },
   "outputs": [],
   "source": [
    "config_file = 'config.yaml'"
   ]
  },
  {
   "cell_type": "code",
   "execution_count": null,
   "metadata": {
    "collapsed": false
   },
   "outputs": [],
   "source": [
    "with open(config_file) as yaml_file:\n",
    "    cfg = yaml.load(yaml_file)\n",
    "\n",
    "mongo_db = cfg['mongo']\n",
    "\n",
    "json_parts = cfg['json-doc']['match_list']"
   ]
  },
  {
   "cell_type": "markdown",
   "metadata": {},
   "source": [
    "## Prepare database connection"
   ]
  },
  {
   "cell_type": "code",
   "execution_count": null,
   "metadata": {
    "collapsed": false
   },
   "outputs": [],
   "source": [
    "client = MongoClient(mongo_db['url'])\n",
    "\n",
    "db = client[mongo_db['database']][mongo_db['collection']]\n",
    "\n",
    "print \"%d entries in database.\" % db.find().count()"
   ]
  },
  {
   "cell_type": "markdown",
   "metadata": {},
   "source": [
    "## Process all documents\n",
    "\n",
    "Define function to clean text data such that it can be saved as one line."
   ]
  },
  {
   "cell_type": "code",
   "execution_count": null,
   "metadata": {
    "collapsed": true
   },
   "outputs": [],
   "source": [
    "def clean(data):\n",
    "    \"\"\"Replace new line and tab; remove leading and trailing spaces.\"\"\"\n",
    "    return re.sub('[\\t\\n\\r]', ' ', data).strip()"
   ]
  },
  {
   "cell_type": "code",
   "execution_count": null,
   "metadata": {
    "collapsed": true
   },
   "outputs": [],
   "source": [
    "records = [tuple(clean(data[field]) for field in json_parts) for data in db.find()]\n",
    "\n",
    "df = pd.DataFrame.from_records(records, columns=json_parts)"
   ]
  },
  {
   "cell_type": "markdown",
   "metadata": {},
   "source": [
    "## Save documents"
   ]
  },
  {
   "cell_type": "code",
   "execution_count": null,
   "metadata": {
    "collapsed": false
   },
   "outputs": [],
   "source": [
    "output_file = \"../data/\" + \"_\".join(json_parts) + \".tsv\"\n",
    "\n",
    "df.to_csv(output_file, sep=\"\\t\", index=False, quoting=3, encoding=\"utf-8\")"
   ]
  }
 ],
 "metadata": {
  "kernelspec": {
   "display_name": "Python 2",
   "language": "python",
   "name": "python2"
  },
  "language_info": {
   "codemirror_mode": {
    "name": "ipython",
    "version": 2
   },
   "file_extension": ".py",
   "mimetype": "text/x-python",
   "name": "python",
   "nbconvert_exporter": "python",
   "pygments_lexer": "ipython2",
   "version": "2.7.12"
  }
 },
 "nbformat": 4,
 "nbformat_minor": 2
}
