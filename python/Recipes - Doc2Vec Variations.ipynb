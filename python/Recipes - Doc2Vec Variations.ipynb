{
 "cells": [
  {
   "cell_type": "markdown",
   "metadata": {},
   "source": [
    "## Data Preparation"
   ]
  },
  {
   "cell_type": "code",
   "execution_count": null,
   "metadata": {
    "collapsed": true
   },
   "outputs": [],
   "source": [
    "import re                                    # Regular Expressions\n",
    "import pandas as pd                          # DataFrames & Manipulation\n",
    "from gensim.models.doc2vec import LabeledSentence, Doc2Vec"
   ]
  },
  {
   "cell_type": "code",
   "execution_count": null,
   "metadata": {
    "collapsed": false
   },
   "outputs": [],
   "source": [
    "train_input = \"../data/recipes.tsv.bz2\"\n",
    "\n",
    "# keep empty strings (http://pandas-docs.github.io/pandas-docs-travis/io.html#na-values)\n",
    "train = pd.read_csv(train_input, delimiter=\"\\t\", quoting=3, encoding=\"utf-8\", keep_default_na=False)\n",
    "\n",
    "print \"loaded %d documents.\" % len(train)"
   ]
  },
  {
   "cell_type": "markdown",
   "metadata": {},
   "source": [
    "# Doc2Vec Model Training\n",
    "\n",
    "see http://radimrehurek.com/gensim/models/doc2vec.html\n",
    "\n",
    "    class gensim.models.doc2vec.Doc2Vec(\n",
    "        documents=None,          # list of TaggedDocument elements\n",
    "        dm=1,                    # training algorithm. dm=1: 'distributed memory' (PV-DM).\n",
    "                                                       otherwise, 'distributed bag of words' (PV-DBOW).\n",
    "        dbow_words=0,            # 0 (default), if 1, trains word-vectors simultaneous with DBOW doc-vector\n",
    "        dm_mean=None,            # 0 (default), if 1, use the mean of context word vectors instead of sum.\n",
    "        dm_concat=0,             # 0 (default), if 1, use concatenation of (all) context vectors (slow).\n",
    "        dm_tag_count=1,          # 1 (default), expected document tags per document, when using dm_concat mode\n",
    "        docvecs=None,\n",
    "        docvecs_mapfile=None,\n",
    "        comment=None,\n",
    "        trim_rule=None,\n",
    "        **kwargs\n",
    "    )"
   ]
  },
  {
   "cell_type": "code",
   "execution_count": null,
   "metadata": {
    "collapsed": true
   },
   "outputs": [],
   "source": [
    "def normalize(text):\n",
    "    norm_text = text.lower()\n",
    "    \n",
    "    for char in ['.', '\"', ',', '(', ')', '!', '?', ';', ':']:\n",
    "        norm_text = norm_text.replace(char, ' ' + char + ' ')\n",
    "    \n",
    "    return norm_text"
   ]
  },
  {
   "cell_type": "code",
   "execution_count": null,
   "metadata": {
    "collapsed": false
   },
   "outputs": [],
   "source": [
    "sentences = [LabeledSentence(normalize(text).split(), [i]) for i, text in enumerate(train['instructions'])]\n",
    "\n",
    "print \"%d sentences in corpus\" % len(sentences)"
   ]
  },
  {
   "cell_type": "code",
   "execution_count": null,
   "metadata": {
    "collapsed": false
   },
   "outputs": [],
   "source": [
    "# Import the built-in logging module and configure it so that Word2Vec creates nice output messages\n",
    "import logging\n",
    "logging.basicConfig(format='%(asctime)s : %(levelname)s : %(message)s', level=logging.INFO)"
   ]
  },
  {
   "cell_type": "code",
   "execution_count": null,
   "metadata": {
    "collapsed": false
   },
   "outputs": [],
   "source": [
    "model = Doc2Vec(sentences, dm=1, dm_mean=1, size=400, min_count=10, window=10, sample=1e-3, iter=5, workers=4)"
   ]
  },
  {
   "cell_type": "code",
   "execution_count": null,
   "metadata": {
    "collapsed": false
   },
   "outputs": [],
   "source": [
    "model.wv.most_similar(\"pasta\", topn=20)"
   ]
  },
  {
   "cell_type": "code",
   "execution_count": null,
   "metadata": {
    "collapsed": false
   },
   "outputs": [],
   "source": [
    "recipe_no = 1\n",
    "ids = model.docvecs.most_similar(recipe_no)\n",
    "ids"
   ]
  },
  {
   "cell_type": "code",
   "execution_count": null,
   "metadata": {
    "collapsed": false
   },
   "outputs": [],
   "source": [
    "match = train.loc[[recipe_no]+[id for id, score in ids]][['title','instructions']]\n",
    "print \"\\n\".join(list(match['instructions']))"
   ]
  }
 ],
 "metadata": {
  "kernelspec": {
   "display_name": "Python 2",
   "language": "python",
   "name": "python2"
  },
  "language_info": {
   "codemirror_mode": {
    "name": "ipython",
    "version": 2
   },
   "file_extension": ".py",
   "mimetype": "text/x-python",
   "name": "python",
   "nbconvert_exporter": "python",
   "pygments_lexer": "ipython2",
   "version": "2.7.12"
  }
 },
 "nbformat": 4,
 "nbformat_minor": 2
}
