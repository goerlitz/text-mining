{
 "cells": [
  {
   "cell_type": "markdown",
   "metadata": {},
   "source": [
    "# About\n",
    "\n",
    "Analysis of recipes with doc2vec.\n",
    "\n",
    "# Prerequesites\n",
    "\n",
    "* Python libraries:\n",
    "    * nltk - natural language processing toolkit which includes functions for cleaning text data.\n",
    "    * gensim - doc2vec implementation - cython is required for ensuring speedy computations."
   ]
  },
  {
   "cell_type": "code",
   "execution_count": null,
   "metadata": {
    "collapsed": true
   },
   "outputs": [],
   "source": [
    "import re                          # Regular Expressions\n",
    "import pandas as pd                # DataFrames & Manipulation\n",
    "import nltk.data                   # Sentence tokenizer\n",
    "from bs4 import BeautifulSoup      # HTML processing\n",
    "from gensim.models.doc2vec import LabeledSentence, Doc2Vec"
   ]
  },
  {
   "cell_type": "code",
   "execution_count": null,
   "metadata": {
    "collapsed": true
   },
   "outputs": [],
   "source": [
    "train_input = \"../data/recipes.tsv.bz2\"\n",
    "\n",
    "# keep empty strings (http://pandas-docs.github.io/pandas-docs-travis/io.html#na-values)\n",
    "train = pd.read_csv(train_input, delimiter=\"\\t\", quoting=3, encoding=\"utf-8\", keep_default_na=False)"
   ]
  },
  {
   "cell_type": "code",
   "execution_count": null,
   "metadata": {
    "collapsed": false
   },
   "outputs": [],
   "source": [
    "# load sentence tokenizer model and initialize for german language\n",
    "nltk.download(\"punkt\")\n",
    "\n",
    "tokenizer = nltk.data.load('tokenizers/punkt/german.pickle')"
   ]
  },
  {
   "cell_type": "code",
   "execution_count": null,
   "metadata": {
    "collapsed": true
   },
   "outputs": [],
   "source": [
    "def normalize( text ):\n",
    "    \"\"\"\n",
    "    Remove HTML, non-letter characters, and convert to lower case.\n",
    "    Return list of words.\n",
    "    \"\"\"\n",
    "    \n",
    "    # remove HTML markup with BeautifulSoup (and keep spaces after removal)\n",
    "    plainText = \" \".join(BeautifulSoup(text, 'html.parser').strings)\n",
    "    \n",
    "    # retain only letters (include umlauts)\n",
    "    onlyLetters = re.sub(u\"[^a-zA-ZäöüÄÖÜß]\", \" \", plainText)\n",
    "    \n",
    "    # get lower case words\n",
    "    words = onlyLetters.lower().split()\n",
    "    \n",
    "    return words\n",
    "\n",
    "def split_sentences(text):\n",
    "    \"\"\" Split text by sentences and clean each sentence. \"\"\"\n",
    "    return filter(None, [normalize(sentence) for sentence in tokenizer.tokenize(text)])"
   ]
  },
  {
   "cell_type": "code",
   "execution_count": null,
   "metadata": {
    "collapsed": false
   },
   "outputs": [],
   "source": [
    "sentences = []\n",
    "\n",
    "size = train['instructions'].size\n",
    "\n",
    "for i in xrange ( 0, size ):\n",
    "    \n",
    "    if (i+1) % 10000 == 0:\n",
    "        print \"Processing %d of %d recipies.\" % ( i+1, size )\n",
    "    \n",
    "    # either keep complete text or split into sentences but label all parts with the same ID\n",
    "    sentences.append(LabeledSentence(normalize(train['instructions'][i]), [i]))\n",
    "    #sentences += [LabeledSentence(words, [i]) for words in split_sentences(train['instructions'][i])]"
   ]
  },
  {
   "cell_type": "code",
   "execution_count": null,
   "metadata": {
    "collapsed": false
   },
   "outputs": [],
   "source": [
    "print \"Total: %d sentences.\\n\" % len(sentences)"
   ]
  },
  {
   "cell_type": "code",
   "execution_count": null,
   "metadata": {
    "collapsed": true
   },
   "outputs": [],
   "source": [
    "# Set values for various parameters\n",
    "num_features = 300    # Word vector dimensionality                      \n",
    "min_word_count = 40   # Minimum word count                        \n",
    "num_workers = 4       # Number of threads to run in parallel\n",
    "context = 10          # Context window size                                                                                    \n",
    "downsampling = 1e-3   # Downsample setting for frequent words"
   ]
  },
  {
   "cell_type": "code",
   "execution_count": null,
   "metadata": {
    "collapsed": true
   },
   "outputs": [],
   "source": [
    "# Import the built-in logging module and configure it so that Word2Vec creates nice output messages\n",
    "import logging\n",
    "logging.basicConfig(format='%(asctime)s : %(levelname)s : %(message)s', level=logging.INFO)"
   ]
  },
  {
   "cell_type": "code",
   "execution_count": null,
   "metadata": {
    "collapsed": false
   },
   "outputs": [],
   "source": [
    "print \"Training model...\"\n",
    "model = Doc2Vec(sentences, workers=num_workers, \\\n",
    "            size=num_features, min_count = min_word_count, \\\n",
    "            window = context, sample = downsampling)"
   ]
  },
  {
   "cell_type": "code",
   "execution_count": null,
   "metadata": {
    "collapsed": false
   },
   "outputs": [],
   "source": [
    "vec = model.docvecs.most_similar(1)\n",
    "ids = [k for (k,v) in vec]\n",
    "ids"
   ]
  },
  {
   "cell_type": "code",
   "execution_count": null,
   "metadata": {
    "collapsed": false
   },
   "outputs": [],
   "source": [
    "vec"
   ]
  },
  {
   "cell_type": "code",
   "execution_count": null,
   "metadata": {
    "collapsed": false
   },
   "outputs": [],
   "source": [
    "train.loc[ids]"
   ]
  },
  {
   "cell_type": "code",
   "execution_count": null,
   "metadata": {
    "collapsed": false
   },
   "outputs": [],
   "source": [
    "model.most_similar('pasta')"
   ]
  }
 ],
 "metadata": {
  "kernelspec": {
   "display_name": "Python 2",
   "language": "python",
   "name": "python2"
  },
  "language_info": {
   "codemirror_mode": {
    "name": "ipython",
    "version": 2
   },
   "file_extension": ".py",
   "mimetype": "text/x-python",
   "name": "python",
   "nbconvert_exporter": "python",
   "pygments_lexer": "ipython2",
   "version": "2.7.12"
  }
 },
 "nbformat": 4,
 "nbformat_minor": 2
}
